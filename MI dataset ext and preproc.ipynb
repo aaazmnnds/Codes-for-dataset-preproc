{
 "cells": [
  {
   "cell_type": "code",
   "execution_count": null,
   "id": "0a63e93e-7f46-4270-8b62-58f5b8b68053",
   "metadata": {},
   "outputs": [],
   "source": [
    "pip install ucimlrepo"
   ]
  },
  {
   "cell_type": "code",
   "execution_count": null,
   "id": "3b94883b-3272-4756-baed-803c3e57cd10",
   "metadata": {},
   "outputs": [],
   "source": [
    "import pandas as pd\n",
    "\n",
    "# Load the dataset\n",
    "url = \"https://archive.ics.uci.edu/ml/machine-learning-databases/heart-disease/processed.cleveland.data\"\n",
    "heart_data = pd.read_csv(url, names=columns)\n",
    "\n",
    "# Display the first few rows of the dataset\n",
    "print(heart_data.head())"
   ]
  },
  {
   "cell_type": "code",
   "execution_count": null,
   "id": "1a727fdb-d824-406e-bbe0-0462c0946930",
   "metadata": {},
   "outputs": [],
   "source": [
    "from ucimlrepo import fetch_ucirepo \n",
    "  \n",
    "# fetch dataset \n",
    "myocardial_infarction_complications = fetch_ucirepo(id=579) \n",
    "  \n",
    "# data (as pandas dataframes) \n",
    "X = myocardial_infarction_complications.data.features \n",
    "y = myocardial_infarction_complications.data.targets \n",
    "  \n",
    "# metadata \n",
    "print(myocardial_infarction_complications.metadata) \n",
    "  \n",
    "# variable information \n",
    "print(myocardial_infarction_complications.variables)\n",
    "\n",
    "# List all variable names\n",
    "print(\"Feature variables:\")\n",
    "print(X.columns.tolist())\n",
    "\n",
    "print(\"Target variables:\")\n",
    "print(y.columns.tolist())"
   ]
  },
  {
   "cell_type": "code",
   "execution_count": null,
   "id": "f2843a4d-c0de-4500-b6e1-b0f6c06e2f70",
   "metadata": {},
   "outputs": [],
   "source": [
    "# Fetch the dataset\n",
    "myocardial_infarction_complications = fetch_ucirepo(id=579)\n",
    "\n",
    "# Data (as pandas dataframes)\n",
    "X = myocardial_infarction_complications.data.features\n",
    "y = myocardial_infarction_complications.data.targets\n",
    "\n",
    "# Variable information\n",
    "variables = myocardial_infarction_complications.variables\n",
    "\n",
    "# Print out variables for diagnostics\n",
    "print(type(variables))\n",
    "print(variables)\n",
    "\n",
    "# If variables is an array of dicts or any other structure, adapt this part\n",
    "if isinstance(variables, dict):\n",
    "    variable_info = pd.DataFrame.from_dict(variables, orient='index', columns=['Description'])\n",
    "    variable_info.to_csv('myocardial inf variable_descriptions.csv', index_label='Variable')\n",
    "    print(\"Variable descriptions saved to 'variable_descriptions.csv'\")\n",
    "else:\n",
    "    # Handling for other structures\n",
    "    variable_info = pd.DataFrame(variables)\n",
    "    variable_info.to_csv('myocardial inf variable_descriptions.csv', index=False)\n",
    "    print(\"Variable descriptions saved to 'variable_descriptions.csv'\")"
   ]
  },
  {
   "cell_type": "code",
   "execution_count": null,
   "id": "02acbe17-f8f7-4b4f-beb8-125c8decd171",
   "metadata": {},
   "outputs": [],
   "source": [
    "import numpy as np\n",
    "\n",
    "# Load the dataset (assuming it's in a CSV file named 'dataset.csv')\n",
    "# Modify the file path as needed\n",
    "file_path = 'mi (myocardial infarction).csv'\n",
    "df = pd.read_csv(file_path)\n",
    "\n",
    "# Replace \"?\" with NaN\n",
    "df.replace(\"?\", np.nan, inplace=True)\n",
    "\n",
    "# Optionally, save the cleaned dataset to a new CSV file\n",
    "cleaned_file_path = 'cleaned.mi (myocardial infarction).csv'\n",
    "df.to_csv(cleaned_file_path, index=False)"
   ]
  },
  {
   "cell_type": "code",
   "execution_count": null,
   "id": "fcdc0c0c-39bc-49b0-9f26-5758d15b5b80",
   "metadata": {},
   "outputs": [],
   "source": [
    "# Load the dataset (assuming it's in a CSV file named 'dataset.csv')\n",
    "# Modify the file path as needed\n",
    "file_path = 'mi (myocardial infarction).csv'\n",
    "df = pd.read_csv(file_path)\n",
    "\n",
    "# Replace \"?\" with NaN\n",
    "df.replace(\"?\", np.nan, inplace=True)\n",
    "\n",
    "# Optionally, save the cleaned dataset to a new CSV file\n",
    "cleaned_file_path = 'mi with NA (myocardial infarction).csv'\n",
    "df.to_csv(cleaned_file_path, index=False)"
   ]
  },
  {
   "cell_type": "code",
   "execution_count": null,
   "id": "5491279c-d67a-408a-b2f6-6d8e9430ad61",
   "metadata": {},
   "outputs": [],
   "source": [
    "# Load the dataset\n",
    "data = pd.read_csv('mi with NA (myocardial infarction).csv')\n",
    "\n",
    "# Calculate the number of rows and columns\n",
    "num_rows, num_columns = data.shape\n",
    "\n",
    "# Calculate the number of missing values for each column\n",
    "missing_per_column = data.isnull().sum()\n",
    "\n",
    "# Calculate the percentage of missing values for each column\n",
    "missing_percentage_per_column = (missing_per_column / num_rows) * 100\n",
    "\n",
    "# Calculate the overall number of missing values\n",
    "total_missing_values = data.isnull().sum().sum()\n",
    "\n",
    "# Calculate the overall percentage of missing values\n",
    "total_values = num_rows * num_columns\n",
    "overall_missing_percentage = (total_missing_values / total_values) * 100\n",
    "\n",
    "# Create a DataFrame to display the missing data summary\n",
    "missing_summary = pd.DataFrame({\n",
    "    'Missing Values': missing_per_column,\n",
    "    'Missing Percentage': missing_percentage_per_column\n",
    "})\n",
    "\n",
    "# Display the results\n",
    "print(f'Number of rows: {num_rows}')\n",
    "print(f'Number of columns: {num_columns}')\n",
    "print(f'Total missing values: {total_missing_values}')\n",
    "print(f'Overall missing percentage: {overall_missing_percentage:.2f}%')\n",
    "print('\\nMissing data summary per column:')\n",
    "print(missing_summary)\n",
    "\n",
    "# Save the summary to a CSV file if needed\n",
    "missing_summary.to_csv('myocardial infarc_summary.csv', index=True)"
   ]
  }
 ],
 "metadata": {
  "kernelspec": {
   "display_name": "Python 3 (ipykernel)",
   "language": "python",
   "name": "python3"
  },
  "language_info": {
   "codemirror_mode": {
    "name": "ipython",
    "version": 3
   },
   "file_extension": ".py",
   "mimetype": "text/x-python",
   "name": "python",
   "nbconvert_exporter": "python",
   "pygments_lexer": "ipython3",
   "version": "3.11.5"
  }
 },
 "nbformat": 4,
 "nbformat_minor": 5
}
